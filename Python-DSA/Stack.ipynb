{
 "cells": [
  {
   "cell_type": "code",
   "execution_count": 4,
   "metadata": {},
   "outputs": [],
   "source": [
    "class Node:\n",
    "    def __init__(self, data):\n",
    "        self.data = data\n",
    "        self.next = None"
   ]
  },
  {
   "cell_type": "code",
   "execution_count": 8,
   "metadata": {},
   "outputs": [
    {
     "name": "stdout",
     "output_type": "stream",
     "text": [
      "23 "
     ]
    }
   ],
   "source": [
    "class Stack:\n",
    "    def __init__(self):\n",
    "        self.top = None\n",
    "        self.size = 0\n",
    "\n",
    "    def push(self, value):\n",
    "        newNode = Node(value)\n",
    "        newNode.next = self.top # put top element into next of new element \n",
    "        self.top = newNode    # add newNode to top\n",
    "\n",
    "    def pop(self):\n",
    "        if self.top is None:\n",
    "            print(\"Stack is empty!\")\n",
    "            return\n",
    "        else:\n",
    "            poppedValue = self.top.data\n",
    "            self.top = self.top.next # remove top element from stack\n",
    "            self.size -= 1\n",
    "            return poppedValue\n",
    "    def peek(self):\n",
    "        if self.top is None:\n",
    "            print(\"Stack is empty!\")\n",
    "            return\n",
    "        else:\n",
    "            return self.top.value\n",
    "    def size(self):\n",
    "        return self.size\n",
    "\n",
    "    def isEmpty(self):\n",
    "        if(self.size == 0):\n",
    "            return True\n",
    "        else:\n",
    "            return False\n",
    "        \n",
    "    def printStack(self):\n",
    "        element = self.top\n",
    "        while element:\n",
    "            print(element.data, end=\" \")\n",
    "            element = element.next\n",
    "\n",
    "stack = Stack()\n",
    "stack.push(23)\n",
    "stack.push(24)\n",
    "stack.pop()\n",
    "stack.printStack()"
   ]
  },
  {
   "cell_type": "code",
   "execution_count": null,
   "metadata": {},
   "outputs": [],
   "source": []
  }
 ],
 "metadata": {
  "kernelspec": {
   "display_name": "Python 3",
   "language": "python",
   "name": "python3"
  },
  "language_info": {
   "codemirror_mode": {
    "name": "ipython",
    "version": 3
   },
   "file_extension": ".py",
   "mimetype": "text/x-python",
   "name": "python",
   "nbconvert_exporter": "python",
   "pygments_lexer": "ipython3",
   "version": "3.12.2"
  }
 },
 "nbformat": 4,
 "nbformat_minor": 2
}
