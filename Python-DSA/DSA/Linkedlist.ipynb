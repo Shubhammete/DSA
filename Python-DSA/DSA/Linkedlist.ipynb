{
 "cells": [
  {
   "cell_type": "code",
   "execution_count": null,
   "metadata": {},
   "outputs": [],
   "source": [
    "class Node:\n",
    "    def __init__(self,value):\n",
    "        self.value = value\n",
    "        self.next = None"
   ]
  },
  {
   "cell_type": "code",
   "execution_count": null,
   "metadata": {},
   "outputs": [],
   "source": []
  },
  {
   "cell_type": "code",
   "execution_count": null,
   "metadata": {},
   "outputs": [],
   "source": [
    "class LinkedList:\n",
    "    def __init__(self):\n",
    "        self.head = None\n",
    "\n",
    "# O(n) linear time complexity to add element to end of list\n",
    "    def append(self, value):\n",
    "        if self.head == None:\n",
    "            self.head = Node(value)\n",
    "            return\n",
    "        else:\n",
    "            last = self.head\n",
    "            while last.next:\n",
    "                last = last.next\n",
    "            last.next = Node(value)\n",
    "\n",
    "# O(1) time complexity\n",
    "    def prepend(self,value):\n",
    "        firstEle = self.head\n",
    "        self.head = Node(value)\n",
    "        self.head.next = firstEle\n",
    "        # OR\n",
    "        EleToInsert = Node(value)\n",
    "        EleToInsert.next = self.head\n",
    "        self.head = EleToInsert\n",
    "        \n",
    "\n",
    "    def insert(self, value, index):\n",
    "        if self.head == None and index !=0:\n",
    "            print(\"List is Empty!\")  \n",
    "            return \n",
    "        elif index ==0:\n",
    "            newNode = Node(value)\n",
    "            newNode.next = self.head\n",
    "            self.head = Node(value)\n",
    "            return\n",
    "        else:\n",
    "            last = self.head\n",
    "            for i in range(0,index-1):\n",
    "                if(last.next):\n",
    "                    print(\"Index out of Bound!\")\n",
    "                else:\n",
    "                    last = last.next\n",
    "            newNode = Node(value)\n",
    "            newNode.next = last.next\n",
    "            last.next = newNode\n",
    "\n",
    "    def contains(self, value):\n",
    "        if self.head == None:\n",
    "            print(\"List is Empty!\")\n",
    "\n",
    "        last = self.head\n",
    "        while self.head :\n",
    "            if(last.value == value):\n",
    "                return True\n",
    "        return False\n",
    "    \n",
    "    def lenght(self):\n",
    "        counter = 0\n",
    "        last = self.head\n",
    "        while last.next:\n",
    "            counter += 1\n",
    "        return counter\n",
    "         \n"
   ]
  }
 ],
 "metadata": {
  "kernelspec": {
   "display_name": "Python 3",
   "language": "python",
   "name": "python3"
  },
  "language_info": {
   "name": "python",
   "version": "3.12.2"
  }
 },
 "nbformat": 4,
 "nbformat_minor": 2
}
